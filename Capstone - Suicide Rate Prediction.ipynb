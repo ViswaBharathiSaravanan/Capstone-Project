{
 "cells": [
  {
   "cell_type": "markdown",
   "id": "a4141830",
   "metadata": {},
   "source": [
    " <H1>Suicide Rate Prediction<H1>"
   ]
  },
  {
   "cell_type": "code",
   "execution_count": 1,
   "id": "90b87151",
   "metadata": {},
   "outputs": [],
   "source": [
    "import pandas as pd\n",
    "import numpy as np\n",
    "from pandas.plotting import scatter_matrix\n",
    "import matplotlib.pyplot as plt\n",
    "import seaborn as sns\n",
    "import sklearn\n",
    "from sklearn.preprocessing import LabelEncoder\n",
    "from sklearn.preprocessing import RobustScaler\n",
    "from sklearn.model_selection import train_test_split\n",
    "from sklearn.linear_model import LinearRegression\n",
    "from sklearn.tree import DecisionTreeRegressor\n",
    "from sklearn.ensemble import RandomForestRegressor\n",
    "from sklearn.ensemble import GradientBoostingRegressor\n",
    "from sklearn.ensemble import BaggingRegressor\n",
    "from sklearn.svm import SVR\n",
    "from scipy import stats"
   ]
  },
  {
   "cell_type": "markdown",
   "id": "55dcc500",
   "metadata": {},
   "source": [
    "<H6>Import Data<H6>"
   ]
  },
  {
   "cell_type": "code",
   "execution_count": 2,
   "id": "54d7f3d8",
   "metadata": {},
   "outputs": [],
   "source": [
    "suicide = pd.read_csv(\"C:/Users/SANJAY/Desktop/Bharu/Capstone Project/Suicide/master.csv\")"
   ]
  },
  {
   "cell_type": "code",
   "execution_count": 3,
   "id": "896786a9",
   "metadata": {},
   "outputs": [
    {
     "data": {
      "text/html": [
       "<div>\n",
       "<style scoped>\n",
       "    .dataframe tbody tr th:only-of-type {\n",
       "        vertical-align: middle;\n",
       "    }\n",
       "\n",
       "    .dataframe tbody tr th {\n",
       "        vertical-align: top;\n",
       "    }\n",
       "\n",
       "    .dataframe thead th {\n",
       "        text-align: right;\n",
       "    }\n",
       "</style>\n",
       "<table border=\"1\" class=\"dataframe\">\n",
       "  <thead>\n",
       "    <tr style=\"text-align: right;\">\n",
       "      <th></th>\n",
       "      <th>country</th>\n",
       "      <th>year</th>\n",
       "      <th>sex</th>\n",
       "      <th>age</th>\n",
       "      <th>suicides_no</th>\n",
       "      <th>population</th>\n",
       "      <th>suicides/100k pop</th>\n",
       "      <th>country-year</th>\n",
       "      <th>HDI for year</th>\n",
       "      <th>gdp_for_year ($)</th>\n",
       "      <th>gdp_per_capita ($)</th>\n",
       "      <th>generation</th>\n",
       "    </tr>\n",
       "  </thead>\n",
       "  <tbody>\n",
       "    <tr>\n",
       "      <th>0</th>\n",
       "      <td>Albania</td>\n",
       "      <td>1987</td>\n",
       "      <td>male</td>\n",
       "      <td>15-24 years</td>\n",
       "      <td>21</td>\n",
       "      <td>312900</td>\n",
       "      <td>6.71</td>\n",
       "      <td>Albania1987</td>\n",
       "      <td>NaN</td>\n",
       "      <td>2,156,624,900</td>\n",
       "      <td>796</td>\n",
       "      <td>Generation X</td>\n",
       "    </tr>\n",
       "    <tr>\n",
       "      <th>1</th>\n",
       "      <td>Albania</td>\n",
       "      <td>1987</td>\n",
       "      <td>male</td>\n",
       "      <td>35-54 years</td>\n",
       "      <td>16</td>\n",
       "      <td>308000</td>\n",
       "      <td>5.19</td>\n",
       "      <td>Albania1987</td>\n",
       "      <td>NaN</td>\n",
       "      <td>2,156,624,900</td>\n",
       "      <td>796</td>\n",
       "      <td>Silent</td>\n",
       "    </tr>\n",
       "    <tr>\n",
       "      <th>2</th>\n",
       "      <td>Albania</td>\n",
       "      <td>1987</td>\n",
       "      <td>female</td>\n",
       "      <td>15-24 years</td>\n",
       "      <td>14</td>\n",
       "      <td>289700</td>\n",
       "      <td>4.83</td>\n",
       "      <td>Albania1987</td>\n",
       "      <td>NaN</td>\n",
       "      <td>2,156,624,900</td>\n",
       "      <td>796</td>\n",
       "      <td>Generation X</td>\n",
       "    </tr>\n",
       "    <tr>\n",
       "      <th>3</th>\n",
       "      <td>Albania</td>\n",
       "      <td>1987</td>\n",
       "      <td>male</td>\n",
       "      <td>75+ years</td>\n",
       "      <td>1</td>\n",
       "      <td>21800</td>\n",
       "      <td>4.59</td>\n",
       "      <td>Albania1987</td>\n",
       "      <td>NaN</td>\n",
       "      <td>2,156,624,900</td>\n",
       "      <td>796</td>\n",
       "      <td>G.I. Generation</td>\n",
       "    </tr>\n",
       "    <tr>\n",
       "      <th>4</th>\n",
       "      <td>Albania</td>\n",
       "      <td>1987</td>\n",
       "      <td>male</td>\n",
       "      <td>25-34 years</td>\n",
       "      <td>9</td>\n",
       "      <td>274300</td>\n",
       "      <td>3.28</td>\n",
       "      <td>Albania1987</td>\n",
       "      <td>NaN</td>\n",
       "      <td>2,156,624,900</td>\n",
       "      <td>796</td>\n",
       "      <td>Boomers</td>\n",
       "    </tr>\n",
       "  </tbody>\n",
       "</table>\n",
       "</div>"
      ],
      "text/plain": [
       "   country  year     sex          age  suicides_no  population  \\\n",
       "0  Albania  1987    male  15-24 years           21      312900   \n",
       "1  Albania  1987    male  35-54 years           16      308000   \n",
       "2  Albania  1987  female  15-24 years           14      289700   \n",
       "3  Albania  1987    male    75+ years            1       21800   \n",
       "4  Albania  1987    male  25-34 years            9      274300   \n",
       "\n",
       "   suicides/100k pop country-year  HDI for year  gdp_for_year ($)   \\\n",
       "0               6.71  Albania1987           NaN      2,156,624,900   \n",
       "1               5.19  Albania1987           NaN      2,156,624,900   \n",
       "2               4.83  Albania1987           NaN      2,156,624,900   \n",
       "3               4.59  Albania1987           NaN      2,156,624,900   \n",
       "4               3.28  Albania1987           NaN      2,156,624,900   \n",
       "\n",
       "   gdp_per_capita ($)       generation  \n",
       "0                 796     Generation X  \n",
       "1                 796           Silent  \n",
       "2                 796     Generation X  \n",
       "3                 796  G.I. Generation  \n",
       "4                 796          Boomers  "
      ]
     },
     "execution_count": 3,
     "metadata": {},
     "output_type": "execute_result"
    }
   ],
   "source": [
    "suicide.head()"
   ]
  },
  {
   "cell_type": "code",
   "execution_count": 4,
   "id": "2bb6e6bd",
   "metadata": {},
   "outputs": [
    {
     "data": {
      "text/plain": [
       "Index(['country', 'year', 'sex', 'age', 'suicides_no', 'population',\n",
       "       'suicides/100k pop', 'country-year', 'HDI for year',\n",
       "       ' gdp_for_year ($) ', 'gdp_per_capita ($)', 'generation'],\n",
       "      dtype='object')"
      ]
     },
     "execution_count": 4,
     "metadata": {},
     "output_type": "execute_result"
    }
   ],
   "source": [
    "suicide.columns"
   ]
  },
  {
   "cell_type": "code",
   "execution_count": 5,
   "id": "3d9bf093",
   "metadata": {},
   "outputs": [],
   "source": [
    "suicide.columns = ['country', 'year', 'gender', 'age', 'suicide_count', 'population', 'suicide_rate', 'country-year', 'HDI',\n",
    "                'gdp_year', 'per_capita', 'generation']"
   ]
  },
  {
   "cell_type": "code",
   "execution_count": 6,
   "id": "ba80bfb7",
   "metadata": {},
   "outputs": [
    {
     "data": {
      "text/plain": [
       "Index(['country', 'year', 'gender', 'age', 'suicide_count', 'population',\n",
       "       'suicide_rate', 'country-year', 'HDI', 'gdp_year', 'per_capita',\n",
       "       'generation'],\n",
       "      dtype='object')"
      ]
     },
     "execution_count": 6,
     "metadata": {},
     "output_type": "execute_result"
    }
   ],
   "source": [
    "suicide.columns"
   ]
  },
  {
   "cell_type": "markdown",
   "id": "6eb48959",
   "metadata": {},
   "source": [
    "<H6>Understanding the Data<H6>"
   ]
  },
  {
   "cell_type": "code",
   "execution_count": 7,
   "id": "e39be79c",
   "metadata": {},
   "outputs": [
    {
     "data": {
      "text/plain": [
       "(27820, 12)"
      ]
     },
     "execution_count": 7,
     "metadata": {},
     "output_type": "execute_result"
    }
   ],
   "source": [
    "suicide.shape"
   ]
  },
  {
   "cell_type": "code",
   "execution_count": 8,
   "id": "8098d70b",
   "metadata": {},
   "outputs": [
    {
     "name": "stdout",
     "output_type": "stream",
     "text": [
      "<class 'pandas.core.frame.DataFrame'>\n",
      "RangeIndex: 27820 entries, 0 to 27819\n",
      "Data columns (total 12 columns):\n",
      " #   Column         Non-Null Count  Dtype  \n",
      "---  ------         --------------  -----  \n",
      " 0   country        27820 non-null  object \n",
      " 1   year           27820 non-null  int64  \n",
      " 2   gender         27820 non-null  object \n",
      " 3   age            27820 non-null  object \n",
      " 4   suicide_count  27820 non-null  int64  \n",
      " 5   population     27820 non-null  int64  \n",
      " 6   suicide_rate   27820 non-null  float64\n",
      " 7   country-year   27820 non-null  object \n",
      " 8   HDI            8364 non-null   float64\n",
      " 9   gdp_year       27820 non-null  object \n",
      " 10  per_capita     27820 non-null  int64  \n",
      " 11  generation     27820 non-null  object \n",
      "dtypes: float64(2), int64(4), object(6)\n",
      "memory usage: 2.5+ MB\n"
     ]
    }
   ],
   "source": [
    "suicide.info()"
   ]
  },
  {
   "cell_type": "code",
   "execution_count": 9,
   "id": "624df7d4",
   "metadata": {},
   "outputs": [
    {
     "data": {
      "text/html": [
       "<div>\n",
       "<style scoped>\n",
       "    .dataframe tbody tr th:only-of-type {\n",
       "        vertical-align: middle;\n",
       "    }\n",
       "\n",
       "    .dataframe tbody tr th {\n",
       "        vertical-align: top;\n",
       "    }\n",
       "\n",
       "    .dataframe thead th {\n",
       "        text-align: right;\n",
       "    }\n",
       "</style>\n",
       "<table border=\"1\" class=\"dataframe\">\n",
       "  <thead>\n",
       "    <tr style=\"text-align: right;\">\n",
       "      <th></th>\n",
       "      <th>year</th>\n",
       "      <th>suicide_count</th>\n",
       "      <th>population</th>\n",
       "      <th>suicide_rate</th>\n",
       "      <th>HDI</th>\n",
       "      <th>per_capita</th>\n",
       "    </tr>\n",
       "  </thead>\n",
       "  <tbody>\n",
       "    <tr>\n",
       "      <th>count</th>\n",
       "      <td>27820.000000</td>\n",
       "      <td>27820.000000</td>\n",
       "      <td>2.782000e+04</td>\n",
       "      <td>27820.000000</td>\n",
       "      <td>8364.000000</td>\n",
       "      <td>27820.000000</td>\n",
       "    </tr>\n",
       "    <tr>\n",
       "      <th>mean</th>\n",
       "      <td>2001.258375</td>\n",
       "      <td>242.574407</td>\n",
       "      <td>1.844794e+06</td>\n",
       "      <td>12.816097</td>\n",
       "      <td>0.776601</td>\n",
       "      <td>16866.464414</td>\n",
       "    </tr>\n",
       "    <tr>\n",
       "      <th>std</th>\n",
       "      <td>8.469055</td>\n",
       "      <td>902.047917</td>\n",
       "      <td>3.911779e+06</td>\n",
       "      <td>18.961511</td>\n",
       "      <td>0.093367</td>\n",
       "      <td>18887.576472</td>\n",
       "    </tr>\n",
       "    <tr>\n",
       "      <th>min</th>\n",
       "      <td>1985.000000</td>\n",
       "      <td>0.000000</td>\n",
       "      <td>2.780000e+02</td>\n",
       "      <td>0.000000</td>\n",
       "      <td>0.483000</td>\n",
       "      <td>251.000000</td>\n",
       "    </tr>\n",
       "    <tr>\n",
       "      <th>25%</th>\n",
       "      <td>1995.000000</td>\n",
       "      <td>3.000000</td>\n",
       "      <td>9.749850e+04</td>\n",
       "      <td>0.920000</td>\n",
       "      <td>0.713000</td>\n",
       "      <td>3447.000000</td>\n",
       "    </tr>\n",
       "    <tr>\n",
       "      <th>50%</th>\n",
       "      <td>2002.000000</td>\n",
       "      <td>25.000000</td>\n",
       "      <td>4.301500e+05</td>\n",
       "      <td>5.990000</td>\n",
       "      <td>0.779000</td>\n",
       "      <td>9372.000000</td>\n",
       "    </tr>\n",
       "    <tr>\n",
       "      <th>75%</th>\n",
       "      <td>2008.000000</td>\n",
       "      <td>131.000000</td>\n",
       "      <td>1.486143e+06</td>\n",
       "      <td>16.620000</td>\n",
       "      <td>0.855000</td>\n",
       "      <td>24874.000000</td>\n",
       "    </tr>\n",
       "    <tr>\n",
       "      <th>max</th>\n",
       "      <td>2016.000000</td>\n",
       "      <td>22338.000000</td>\n",
       "      <td>4.380521e+07</td>\n",
       "      <td>224.970000</td>\n",
       "      <td>0.944000</td>\n",
       "      <td>126352.000000</td>\n",
       "    </tr>\n",
       "  </tbody>\n",
       "</table>\n",
       "</div>"
      ],
      "text/plain": [
       "               year  suicide_count    population  suicide_rate          HDI  \\\n",
       "count  27820.000000   27820.000000  2.782000e+04  27820.000000  8364.000000   \n",
       "mean    2001.258375     242.574407  1.844794e+06     12.816097     0.776601   \n",
       "std        8.469055     902.047917  3.911779e+06     18.961511     0.093367   \n",
       "min     1985.000000       0.000000  2.780000e+02      0.000000     0.483000   \n",
       "25%     1995.000000       3.000000  9.749850e+04      0.920000     0.713000   \n",
       "50%     2002.000000      25.000000  4.301500e+05      5.990000     0.779000   \n",
       "75%     2008.000000     131.000000  1.486143e+06     16.620000     0.855000   \n",
       "max     2016.000000   22338.000000  4.380521e+07    224.970000     0.944000   \n",
       "\n",
       "          per_capita  \n",
       "count   27820.000000  \n",
       "mean    16866.464414  \n",
       "std     18887.576472  \n",
       "min       251.000000  \n",
       "25%      3447.000000  \n",
       "50%      9372.000000  \n",
       "75%     24874.000000  \n",
       "max    126352.000000  "
      ]
     },
     "execution_count": 9,
     "metadata": {},
     "output_type": "execute_result"
    }
   ],
   "source": [
    "suicide.describe()"
   ]
  },
  {
   "cell_type": "code",
   "execution_count": 10,
   "id": "aeb1eb24",
   "metadata": {},
   "outputs": [
    {
     "data": {
      "text/plain": [
       "country              0\n",
       "year                 0\n",
       "gender               0\n",
       "age                  0\n",
       "suicide_count        0\n",
       "population           0\n",
       "suicide_rate         0\n",
       "country-year         0\n",
       "HDI              19456\n",
       "gdp_year             0\n",
       "per_capita           0\n",
       "generation           0\n",
       "dtype: int64"
      ]
     },
     "execution_count": 10,
     "metadata": {},
     "output_type": "execute_result"
    }
   ],
   "source": [
    "suicide.isnull().sum()"
   ]
  },
  {
   "cell_type": "code",
   "execution_count": 11,
   "id": "baf729bf",
   "metadata": {},
   "outputs": [
    {
     "data": {
      "text/plain": [
       "country          0.000000\n",
       "year             0.000000\n",
       "gender           0.000000\n",
       "age              0.000000\n",
       "suicide_count    0.000000\n",
       "population       0.000000\n",
       "suicide_rate     0.000000\n",
       "country-year     0.000000\n",
       "HDI              0.699353\n",
       "gdp_year         0.000000\n",
       "per_capita       0.000000\n",
       "generation       0.000000\n",
       "dtype: float64"
      ]
     },
     "execution_count": 11,
     "metadata": {},
     "output_type": "execute_result"
    }
   ],
   "source": [
    "suicide.isnull().mean()"
   ]
  },
  {
   "cell_type": "markdown",
   "id": "b47e7d97",
   "metadata": {},
   "source": [
    "<H0>Since null is nearly 70% in HDI, it is excluded<H0>"
   ]
  },
  {
   "cell_type": "code",
   "execution_count": 12,
   "id": "b34c2820",
   "metadata": {},
   "outputs": [],
   "source": [
    "suicide = suicide.drop(['HDI','country-year'], axis = 1)"
   ]
  },
  {
   "cell_type": "code",
   "execution_count": 13,
   "id": "6a11f9fe",
   "metadata": {},
   "outputs": [],
   "source": [
    "suicide = suicide.dropna()"
   ]
  },
  {
   "cell_type": "markdown",
   "id": "d258ffaf",
   "metadata": {},
   "source": [
    "<H6>Plots - Visualization<H6>"
   ]
  },
  {
   "cell_type": "markdown",
   "id": "6a616692",
   "metadata": {},
   "source": [
    "<H0>Visualisation Tableau Link - <H0>"
   ]
  },
  {
   "cell_type": "code",
   "execution_count": 14,
   "id": "463a8b27",
   "metadata": {},
   "outputs": [
    {
     "data": {
      "image/png": "[encoded data removed]",
      "text/plain": [
       "<Figure size 864x720 with 2 Axes>"
      ]
     },
     "metadata": {
      "needs_background": "light"
     },
     "output_type": "display_data"
    }
   ],
   "source": [
    "plt.figure(figsize=(12,10))\n",
    "sns.heatmap(suicide.corr(), annot=True, cmap='Purples')\n",
    "plt.show()"
   ]
  },
  {
   "cell_type": "code",
   "execution_count": 15,
   "id": "1387384a",
   "metadata": {},
   "outputs": [
    {
     "data": {
      "image/png": "[encoded data removed]",
      "text/plain": [
       "<Figure size 360x360 with 1 Axes>"
      ]
     },
     "metadata": {
      "needs_background": "light"
     },
     "output_type": "display_data"
    }
   ],
   "source": [
    "plt.figure(figsize=(5,5))\n",
    "sns.barplot(x = \"gender\", y = \"suicide_count\", hue = \"gender\", data = suicide)\n",
    "plt.title('Suicide Count Vs Gender')\n",
    "plt.show()"
   ]
  },
  {
   "cell_type": "code",
   "execution_count": 16,
   "id": "4b178215",
   "metadata": {},
   "outputs": [
    {
     "data": {
      "image/png": "[encoded data removed]",
      "text/plain": [
       "<Figure size 576x504 with 1 Axes>"
      ]
     },
     "metadata": {
      "needs_background": "light"
     },
     "output_type": "display_data"
    }
   ],
   "source": [
    "plt.figure(figsize=(8,7))\n",
    "sns.barplot(x = \"age\", y = \"suicide_count\", hue = \"gender\", data = suicide)\n",
    "plt.title(\"Age Vs Suicide Count\")\n",
    "plt.show()"
   ]
  },
  {
   "cell_type": "code",
   "execution_count": 17,
   "id": "6413dc70",
   "metadata": {},
   "outputs": [
    {
     "data": {
      "image/png": "[encoded data removed]",
      "text/plain": [
       "<Figure size 720x360 with 1 Axes>"
      ]
     },
     "metadata": {
      "needs_background": "light"
     },
     "output_type": "display_data"
    }
   ],
   "source": [
    "plt.figure(figsize=(10,5))\n",
    "sns.barplot(x = \"generation\", y = \"suicide_count\", hue = \"gender\", data = suicide)\n",
    "plt.title('Generation Vs Suicide Count')\n",
    "plt.show()"
   ]
  },
  {
   "cell_type": "code",
   "execution_count": 18,
   "id": "04ebc1c3",
   "metadata": {},
   "outputs": [
    {
     "data": {
      "image/png": "[encoded data removed]",
      "text/plain": [
       "<Figure size 720x504 with 1 Axes>"
      ]
     },
     "metadata": {
      "needs_background": "light"
     },
     "output_type": "display_data"
    }
   ],
   "source": [
    "plt.figure(figsize=(10,7))\n",
    "sns.barplot(x=\"gender\", y=\"suicide_count\", hue=\"age\", data=suicide)\n",
    "plt.title('Gender Vs Sucide Count')\n",
    "plt.show()"
   ]
  },
  {
   "cell_type": "code",
   "execution_count": 19,
   "id": "611a5afc",
   "metadata": {},
   "outputs": [
    {
     "data": {
      "image/png": "[encoded data removed]",
      "text/plain": [
       "<Figure size 1080x1800 with 1 Axes>"
      ]
     },
     "metadata": {
      "needs_background": "light"
     },
     "output_type": "display_data"
    }
   ],
   "source": [
    "plt.figure(figsize=(15,25))\n",
    "sns.barplot(x = \"suicide_rate\", y = \"country\", data = suicide)\n",
    "plt.title('Country Vs Suicide_rate')\n",
    "plt.show()"
   ]
  },
  {
   "cell_type": "code",
   "execution_count": 20,
   "id": "f35a8348",
   "metadata": {},
   "outputs": [
    {
     "data": {
      "text/plain": [
       "<AxesSubplot:xlabel='year', ylabel='suicide_count'>"
      ]
     },
     "execution_count": 20,
     "metadata": {},
     "output_type": "execute_result"
    },
    {
     "data": {
      "image/png": "[encoded data removed]",
      "text/plain": [
       "<Figure size 432x288 with 1 Axes>"
      ]
     },
     "metadata": {
      "needs_background": "light"
     },
     "output_type": "display_data"
    }
   ],
   "source": [
    "sns.lineplot(data=suicide, x=\"year\", y=\"suicide_count\")"
   ]
  },
  {
   "cell_type": "markdown",
   "id": "38f27989",
   "metadata": {},
   "source": [
    "<H6>Statistical Tests<H6>"
   ]
  },
  {
   "cell_type": "markdown",
   "id": "6e22cb3c",
   "metadata": {},
   "source": [
    "<H6>T – Test : Male and Female Suicide Rates<H6>"
   ]
  },
  {
   "cell_type": "markdown",
   "id": "6e2f8d64",
   "metadata": {},
   "source": [
    "<H0>\n",
    "H0: There is no difference in the suicide rates among male and female\n",
    "<Br>\n",
    "H1: There is difference in the suicide rates among male and female\n",
    "<H0>"
   ]
  },
  {
   "cell_type": "code",
   "execution_count": 21,
   "id": "ecd22be8",
   "metadata": {},
   "outputs": [],
   "source": [
    "male = suicide['suicide_rate'][suicide['gender'] == 0]"
   ]
  },
  {
   "cell_type": "code",
   "execution_count": 22,
   "id": "76065e80",
   "metadata": {},
   "outputs": [],
   "source": [
    "female = suicide['suicide_rate'][suicide['gender'] == 1]"
   ]
  },
  {
   "cell_type": "code",
   "execution_count": 23,
   "id": "42503c7b",
   "metadata": {},
   "outputs": [
    {
     "name": "stdout",
     "output_type": "stream",
     "text": [
      "Null is accepted\n"
     ]
    }
   ],
   "source": [
    "ttest,pval = stats.ttest_rel(male,female)\n",
    "\n",
    "if pval<0.05:\n",
    "    print(\"Null is rejected\")\n",
    "else:\n",
    "    print(\"Null is accepted\")"
   ]
  },
  {
   "cell_type": "markdown",
   "id": "18a0e734",
   "metadata": {},
   "source": [
    "<H6>Chi – Squared Test : Age & Suicide Rates<H6>"
   ]
  },
  {
   "cell_type": "markdown",
   "id": "3daa191b",
   "metadata": {},
   "source": [
    "<H0>\n",
    "H0: Suicide rate and age are independent\n",
    "<Br>\n",
    "H1: Suicide rate and age are dependent\n",
    "<H0>"
   ]
  },
  {
   "cell_type": "code",
   "execution_count": 24,
   "id": "9e4fccf4",
   "metadata": {},
   "outputs": [],
   "source": [
    "contingency_table = pd.crosstab(suicide.suicide_rate,suicide.age)"
   ]
  },
  {
   "cell_type": "code",
   "execution_count": 25,
   "id": "39a16830",
   "metadata": {},
   "outputs": [],
   "source": [
    "alpha=0.05"
   ]
  },
  {
   "cell_type": "code",
   "execution_count": 26,
   "id": "02e86701",
   "metadata": {},
   "outputs": [],
   "source": [
    "chistat,p,dof,expected=stats.chi2_contingency(contingency_table)"
   ]
  },
  {
   "cell_type": "code",
   "execution_count": 27,
   "id": "ecc48945",
   "metadata": {},
   "outputs": [
    {
     "name": "stdout",
     "output_type": "stream",
     "text": [
      "critical_values 26864.700169422224\n"
     ]
    }
   ],
   "source": [
    "critical_values=stats.chi2.ppf(q=1-alpha,df=dof)\n",
    "print('critical_values',critical_values)"
   ]
  },
  {
   "cell_type": "code",
   "execution_count": 28,
   "id": "25f89784",
   "metadata": {},
   "outputs": [
    {
     "name": "stdout",
     "output_type": "stream",
     "text": [
      "Reject H0, since there is a relationship between Age group and Suicide Rate\n",
      "Reject H0, since there is a relationship between Age group and Suicide Rate\n"
     ]
    }
   ],
   "source": [
    "if chistat>=critical_values:\n",
    "    print(\"Reject H0, since there is a relationship between Age group and Suicide Rate\")\n",
    "else:\n",
    "    print(\"Accept H0, since there is no relationship between Age group and Suicide Rate\")\n",
    "    \n",
    "if p<=alpha:\n",
    "    print(\"Reject H0, since there is a relationship between Age group and Suicide Rate\")\n",
    "else:\n",
    "    print(\"Accept H0, since there is no relationship between Age group and Suicide Rate\")"
   ]
  },
  {
   "cell_type": "markdown",
   "id": "73977bf6",
   "metadata": {},
   "source": [
    "<H6>Outlier<H6>"
   ]
  },
  {
   "cell_type": "code",
   "execution_count": 29,
   "id": "0c247502",
   "metadata": {},
   "outputs": [],
   "source": [
    "suicide=suicide.sort_values(by=[\"suicide_rate\"])"
   ]
  },
  {
   "cell_type": "code",
   "execution_count": 30,
   "id": "2266efd1",
   "metadata": {},
   "outputs": [
    {
     "name": "stdout",
     "output_type": "stream",
     "text": [
      "0.92\n"
     ]
    }
   ],
   "source": [
    "q1=suicide[\"suicide_rate\"].quantile(0.25)\n",
    "print(q1)"
   ]
  },
  {
   "cell_type": "code",
   "execution_count": 31,
   "id": "e09315cc",
   "metadata": {},
   "outputs": [
    {
     "name": "stdout",
     "output_type": "stream",
     "text": [
      "16.62\n"
     ]
    }
   ],
   "source": [
    "q3=suicide[\"suicide_rate\"].quantile(0.75)\n",
    "print(q3)"
   ]
  },
  {
   "cell_type": "code",
   "execution_count": 32,
   "id": "24a6ab72",
   "metadata": {},
   "outputs": [
    {
     "name": "stdout",
     "output_type": "stream",
     "text": [
      "15.700000000000001\n"
     ]
    }
   ],
   "source": [
    "IQR=q3-q1\n",
    "print(IQR)"
   ]
  },
  {
   "cell_type": "code",
   "execution_count": 33,
   "id": "8c92d4b3",
   "metadata": {},
   "outputs": [
    {
     "name": "stdout",
     "output_type": "stream",
     "text": [
      "-22.63\n"
     ]
    }
   ],
   "source": [
    "lower_extreme=q1-1.5*IQR\n",
    "print(lower_extreme)"
   ]
  },
  {
   "cell_type": "code",
   "execution_count": 34,
   "id": "7afa39de",
   "metadata": {},
   "outputs": [
    {
     "name": "stdout",
     "output_type": "stream",
     "text": [
      "40.17\n"
     ]
    }
   ],
   "source": [
    "upper_extreme=q3+1.5*IQR\n",
    "print(upper_extreme)"
   ]
  },
  {
   "cell_type": "code",
   "execution_count": 35,
   "id": "773bd640",
   "metadata": {},
   "outputs": [],
   "source": [
    "suicide=suicide[(suicide.suicide_rate<upper_extreme)&(suicide.suicide_rate>lower_extreme)]\n",
    "suicide=suicide.sort_index().reset_index(drop=True)"
   ]
  },
  {
   "cell_type": "markdown",
   "id": "3510c1d6",
   "metadata": {},
   "source": [
    "<H6>Label Encoding<H6>"
   ]
  },
  {
   "cell_type": "code",
   "execution_count": 36,
   "id": "57eff39c",
   "metadata": {},
   "outputs": [],
   "source": [
    "label = ['country', 'year','age', 'gender', 'generation']\n",
    "le = sklearn.preprocessing.LabelEncoder()\n",
    "for column in label:\n",
    "    suicide[column] = le.fit_transform(suicide[column])"
   ]
  },
  {
   "cell_type": "code",
   "execution_count": 37,
   "id": "a81621ee",
   "metadata": {},
   "outputs": [
    {
     "data": {
      "text/html": [
       "<div>\n",
       "<style scoped>\n",
       "    .dataframe tbody tr th:only-of-type {\n",
       "        vertical-align: middle;\n",
       "    }\n",
       "\n",
       "    .dataframe tbody tr th {\n",
       "        vertical-align: top;\n",
       "    }\n",
       "\n",
       "    .dataframe thead th {\n",
       "        text-align: right;\n",
       "    }\n",
       "</style>\n",
       "<table border=\"1\" class=\"dataframe\">\n",
       "  <thead>\n",
       "    <tr style=\"text-align: right;\">\n",
       "      <th></th>\n",
       "      <th>country</th>\n",
       "      <th>year</th>\n",
       "      <th>gender</th>\n",
       "      <th>age</th>\n",
       "      <th>suicide_count</th>\n",
       "      <th>population</th>\n",
       "      <th>suicide_rate</th>\n",
       "      <th>gdp_year</th>\n",
       "      <th>per_capita</th>\n",
       "      <th>generation</th>\n",
       "    </tr>\n",
       "  </thead>\n",
       "  <tbody>\n",
       "    <tr>\n",
       "      <th>0</th>\n",
       "      <td>0</td>\n",
       "      <td>2</td>\n",
       "      <td>1</td>\n",
       "      <td>0</td>\n",
       "      <td>21</td>\n",
       "      <td>312900</td>\n",
       "      <td>6.71</td>\n",
       "      <td>2,156,624,900</td>\n",
       "      <td>796</td>\n",
       "      <td>2</td>\n",
       "    </tr>\n",
       "    <tr>\n",
       "      <th>1</th>\n",
       "      <td>0</td>\n",
       "      <td>2</td>\n",
       "      <td>1</td>\n",
       "      <td>2</td>\n",
       "      <td>16</td>\n",
       "      <td>308000</td>\n",
       "      <td>5.19</td>\n",
       "      <td>2,156,624,900</td>\n",
       "      <td>796</td>\n",
       "      <td>5</td>\n",
       "    </tr>\n",
       "    <tr>\n",
       "      <th>2</th>\n",
       "      <td>0</td>\n",
       "      <td>2</td>\n",
       "      <td>0</td>\n",
       "      <td>0</td>\n",
       "      <td>14</td>\n",
       "      <td>289700</td>\n",
       "      <td>4.83</td>\n",
       "      <td>2,156,624,900</td>\n",
       "      <td>796</td>\n",
       "      <td>2</td>\n",
       "    </tr>\n",
       "    <tr>\n",
       "      <th>3</th>\n",
       "      <td>0</td>\n",
       "      <td>2</td>\n",
       "      <td>1</td>\n",
       "      <td>5</td>\n",
       "      <td>1</td>\n",
       "      <td>21800</td>\n",
       "      <td>4.59</td>\n",
       "      <td>2,156,624,900</td>\n",
       "      <td>796</td>\n",
       "      <td>1</td>\n",
       "    </tr>\n",
       "    <tr>\n",
       "      <th>4</th>\n",
       "      <td>0</td>\n",
       "      <td>2</td>\n",
       "      <td>1</td>\n",
       "      <td>1</td>\n",
       "      <td>9</td>\n",
       "      <td>274300</td>\n",
       "      <td>3.28</td>\n",
       "      <td>2,156,624,900</td>\n",
       "      <td>796</td>\n",
       "      <td>0</td>\n",
       "    </tr>\n",
       "  </tbody>\n",
       "</table>\n",
       "</div>"
      ],
      "text/plain": [
       "   country  year  gender  age  suicide_count  population  suicide_rate  \\\n",
       "0        0     2       1    0             21      312900          6.71   \n",
       "1        0     2       1    2             16      308000          5.19   \n",
       "2        0     2       0    0             14      289700          4.83   \n",
       "3        0     2       1    5              1       21800          4.59   \n",
       "4        0     2       1    1              9      274300          3.28   \n",
       "\n",
       "        gdp_year  per_capita  generation  \n",
       "0  2,156,624,900         796           2  \n",
       "1  2,156,624,900         796           5  \n",
       "2  2,156,624,900         796           2  \n",
       "3  2,156,624,900         796           1  \n",
       "4  2,156,624,900         796           0  "
      ]
     },
     "execution_count": 37,
     "metadata": {},
     "output_type": "execute_result"
    }
   ],
   "source": [
    "suicide.head()"
   ]
  },
  {
   "cell_type": "code",
   "execution_count": 38,
   "id": "66c59ccc",
   "metadata": {},
   "outputs": [
    {
     "data": {
      "text/plain": [
       "country            int32\n",
       "year               int64\n",
       "gender             int32\n",
       "age                int32\n",
       "suicide_count      int64\n",
       "population         int64\n",
       "suicide_rate     float64\n",
       "gdp_year          object\n",
       "per_capita         int64\n",
       "generation         int32\n",
       "dtype: object"
      ]
     },
     "execution_count": 38,
     "metadata": {},
     "output_type": "execute_result"
    }
   ],
   "source": [
    "suicide.dtypes"
   ]
  },
  {
   "cell_type": "markdown",
   "id": "a07cfe50",
   "metadata": {},
   "source": [
    "<H0>Converting Object to Float Datatype<H0>"
   ]
  },
  {
   "cell_type": "code",
   "execution_count": 39,
   "id": "2ddfd4e7",
   "metadata": {},
   "outputs": [],
   "source": [
    "suicide['gdp_year'] = suicide['gdp_year'].str.replace(',','').astype(float)"
   ]
  },
  {
   "cell_type": "code",
   "execution_count": 40,
   "id": "f49bd9e4",
   "metadata": {},
   "outputs": [
    {
     "data": {
      "text/plain": [
       "country            int32\n",
       "year               int64\n",
       "gender             int32\n",
       "age                int32\n",
       "suicide_count      int64\n",
       "population         int64\n",
       "suicide_rate     float64\n",
       "gdp_year         float64\n",
       "per_capita         int64\n",
       "generation         int32\n",
       "dtype: object"
      ]
     },
     "execution_count": 40,
     "metadata": {},
     "output_type": "execute_result"
    }
   ],
   "source": [
    "suicide.dtypes"
   ]
  },
  {
   "cell_type": "markdown",
   "id": "536d74c3",
   "metadata": {},
   "source": [
    "<H6>Scaling<H6>"
   ]
  },
  {
   "cell_type": "code",
   "execution_count": 41,
   "id": "55c1dc71",
   "metadata": {},
   "outputs": [],
   "source": [
    "num = ['suicide_count', 'population', 'suicide_rate', \n",
    "              'gdp_year','per_capita']\n",
    "robust = RobustScaler()\n",
    "suicide[num] = robust.fit_transform(suicide[num])"
   ]
  },
  {
   "cell_type": "markdown",
   "id": "3b595c9e",
   "metadata": {},
   "source": [
    "<H6>Splitting<H6>"
   ]
  },
  {
   "cell_type": "code",
   "execution_count": 42,
   "id": "84449184",
   "metadata": {},
   "outputs": [],
   "source": [
    "x = suicide[['country','year','gender','age','suicide_count','population','gdp_year','per_capita','generation']]\n",
    "y = suicide['suicide_rate']"
   ]
  },
  {
   "cell_type": "code",
   "execution_count": 43,
   "id": "e14d7ef0",
   "metadata": {},
   "outputs": [
    {
     "data": {
      "text/plain": [
       "(25774, 9)"
      ]
     },
     "execution_count": 43,
     "metadata": {},
     "output_type": "execute_result"
    }
   ],
   "source": [
    "x.shape"
   ]
  },
  {
   "cell_type": "code",
   "execution_count": 44,
   "id": "9cc23393",
   "metadata": {},
   "outputs": [
    {
     "data": {
      "text/plain": [
       "(25774,)"
      ]
     },
     "execution_count": 44,
     "metadata": {},
     "output_type": "execute_result"
    }
   ],
   "source": [
    "y.shape"
   ]
  },
  {
   "cell_type": "code",
   "execution_count": 45,
   "id": "b0c64eee",
   "metadata": {},
   "outputs": [],
   "source": [
    "x_train, x_test, y_train, y_test = train_test_split(x, y, test_size = 0.2, random_state = 42)"
   ]
  },
  {
   "cell_type": "code",
   "execution_count": 46,
   "id": "53f63192",
   "metadata": {},
   "outputs": [
    {
     "data": {
      "text/plain": [
       "((20619, 9), (5155, 9), (20619,), (5155,))"
      ]
     },
     "execution_count": 46,
     "metadata": {},
     "output_type": "execute_result"
    }
   ],
   "source": [
    "x_train.shape, x_test.shape, y_train.shape, y_test.shape"
   ]
  },
  {
   "cell_type": "markdown",
   "id": "94e08db4",
   "metadata": {},
   "source": [
    "<H6>Model<H6>"
   ]
  },
  {
   "cell_type": "markdown",
   "id": "2d7deb25",
   "metadata": {},
   "source": [
    "<H6>Linear Regression<H6>"
   ]
  },
  {
   "cell_type": "code",
   "execution_count": 47,
   "id": "a172d697",
   "metadata": {},
   "outputs": [
    {
     "data": {
      "text/plain": [
       "LinearRegression()"
      ]
     },
     "execution_count": 47,
     "metadata": {},
     "output_type": "execute_result"
    }
   ],
   "source": [
    "lr_model = LinearRegression()\n",
    "lr_model.fit(x_train, y_train)"
   ]
  },
  {
   "cell_type": "code",
   "execution_count": 48,
   "id": "461c39bc",
   "metadata": {},
   "outputs": [],
   "source": [
    "ytrain_pred = lr_model.predict(x_train)\n",
    "ytest_pred = lr_model.predict(x_test)"
   ]
  },
  {
   "cell_type": "code",
   "execution_count": 49,
   "id": "bfe95a04",
   "metadata": {},
   "outputs": [
    {
     "data": {
      "text/plain": [
       "0.2840937906171217"
      ]
     },
     "execution_count": 49,
     "metadata": {},
     "output_type": "execute_result"
    }
   ],
   "source": [
    "lr_model.score(x_train, y_train)"
   ]
  },
  {
   "cell_type": "code",
   "execution_count": 50,
   "id": "9a2ca0e0",
   "metadata": {},
   "outputs": [
    {
     "data": {
      "text/plain": [
       "0.2741572438306442"
      ]
     },
     "execution_count": 50,
     "metadata": {},
     "output_type": "execute_result"
    }
   ],
   "source": [
    "lr_model.score(x_test, y_test)"
   ]
  },
  {
   "cell_type": "code",
   "execution_count": 51,
   "id": "db2bbc03",
   "metadata": {},
   "outputs": [
    {
     "data": {
      "text/plain": [
       "Text(0.5, 1.0, 'Train - Actual vs Predicted')"
      ]
     },
     "execution_count": 51,
     "metadata": {},
     "output_type": "execute_result"
    },
    {
     "data": {
      "image/png": "[encoded data removed]",
      "text/plain": [
       "<Figure size 432x288 with 1 Axes>"
      ]
     },
     "metadata": {
      "needs_background": "light"
     },
     "output_type": "display_data"
    }
   ],
   "source": [
    "plt.scatter(y_train,ytrain_pred)\n",
    "plt.xlabel(\"Actual Value\")\n",
    "plt.ylabel(\"Predicted Value\")\n",
    "plt.title(\"Train - Actual vs Predicted\")"
   ]
  },
  {
   "cell_type": "code",
   "execution_count": 52,
   "id": "f417e229",
   "metadata": {},
   "outputs": [
    {
     "data": {
      "text/plain": [
       "Text(0.5, 1.0, 'Test - Actual vs Predicted')"
      ]
     },
     "execution_count": 52,
     "metadata": {},
     "output_type": "execute_result"
    },
    {
     "data": {
      "image/png": "[encoded data removed]",
      "text/plain": [
       "<Figure size 432x288 with 1 Axes>"
      ]
     },
     "metadata": {
      "needs_background": "light"
     },
     "output_type": "display_data"
    }
   ],
   "source": [
    "plt.scatter(y_test,ytest_pred)\n",
    "plt.xlabel(\"Actual Value\")\n",
    "plt.ylabel(\"Predicted Value\")\n",
    "plt.title(\"Test - Actual vs Predicted\")"
   ]
  },
  {
   "cell_type": "markdown",
   "id": "c0345ca9",
   "metadata": {},
   "source": [
    "<H6>Decision Tree<H6>"
   ]
  },
  {
   "cell_type": "code",
   "execution_count": 53,
   "id": "1bd2744f",
   "metadata": {},
   "outputs": [
    {
     "data": {
      "text/plain": [
       "DecisionTreeRegressor(max_depth=9)"
      ]
     },
     "execution_count": 53,
     "metadata": {},
     "output_type": "execute_result"
    }
   ],
   "source": [
    "tree_model = DecisionTreeRegressor(max_depth=9)\n",
    "tree_model.fit(x_train, y_train)"
   ]
  },
  {
   "cell_type": "code",
   "execution_count": 54,
   "id": "7b1c6bb4",
   "metadata": {},
   "outputs": [],
   "source": [
    "ytrain_pred = tree_model.predict(x_train)\n",
    "ytest_pred = tree_model.predict(x_test)"
   ]
  },
  {
   "cell_type": "code",
   "execution_count": 55,
   "id": "ad62a7ab",
   "metadata": {},
   "outputs": [
    {
     "name": "stdout",
     "output_type": "stream",
     "text": [
      "0.975976274808679\n"
     ]
    }
   ],
   "source": [
    "train_score = tree_model.score(x_train, y_train)\n",
    "print(train_score)"
   ]
  },
  {
   "cell_type": "code",
   "execution_count": 56,
   "id": "bf56ee7e",
   "metadata": {},
   "outputs": [
    {
     "data": {
      "text/plain": [
       "0.9690467055126014"
      ]
     },
     "execution_count": 56,
     "metadata": {},
     "output_type": "execute_result"
    }
   ],
   "source": [
    "test_score = tree_model.score(x_test, y_test)\n",
    "test_score"
   ]
  },
  {
   "cell_type": "code",
   "execution_count": 57,
   "id": "4145e631",
   "metadata": {},
   "outputs": [],
   "source": [
    "train_accuracy = []\n",
    "test_accuracy = []\n",
    "depth = range(1, 21)\n",
    "for n in depth:\n",
    "  tree = DecisionTreeRegressor(max_depth=n)\n",
    "  tree.fit(x_train, y_train)\n",
    "  train_accuracy.append(tree.score(x_train, y_train))\n",
    "  test_accuracy.append(tree.score(x_test, y_test))"
   ]
  },
  {
   "cell_type": "code",
   "execution_count": 58,
   "id": "cad38959",
   "metadata": {},
   "outputs": [
    {
     "data": {
      "text/plain": [
       "<matplotlib.legend.Legend at 0x268121a7a60>"
      ]
     },
     "execution_count": 58,
     "metadata": {},
     "output_type": "execute_result"
    },
    {
     "data": {
      "image/png": "[encoded data removed]",
      "text/plain": [
       "<Figure size 432x288 with 1 Axes>"
      ]
     },
     "metadata": {
      "needs_background": "light"
     },
     "output_type": "display_data"
    }
   ],
   "source": [
    "plt.plot(depth, train_accuracy, label=\"Train Accuracy\")\n",
    "plt.plot(depth, test_accuracy, label=\"Test Accuracy\")\n",
    "plt.ylabel(\"Accuracy\")  \n",
    "plt.xlabel(\"Max_Depth\")\n",
    "plt.legend()"
   ]
  },
  {
   "cell_type": "markdown",
   "id": "8ad5569a",
   "metadata": {},
   "source": [
    "<H6>Random Forest<H6>"
   ]
  },
  {
   "cell_type": "code",
   "execution_count": 59,
   "id": "71e0f544",
   "metadata": {},
   "outputs": [
    {
     "data": {
      "text/plain": [
       "RandomForestRegressor(max_depth=9)"
      ]
     },
     "execution_count": 59,
     "metadata": {},
     "output_type": "execute_result"
    }
   ],
   "source": [
    "forest_model = RandomForestRegressor(max_depth=9)\n",
    "forest_model.fit(x_train, y_train)"
   ]
  },
  {
   "cell_type": "code",
   "execution_count": 60,
   "id": "b8105a0b",
   "metadata": {},
   "outputs": [],
   "source": [
    "ytrain_pred = forest_model.predict(x_train)\n",
    "ytest_pred = forest_model.predict(x_test)"
   ]
  },
  {
   "cell_type": "code",
   "execution_count": 61,
   "id": "71f762bb",
   "metadata": {},
   "outputs": [
    {
     "name": "stdout",
     "output_type": "stream",
     "text": [
      "0.9912835214026613\n"
     ]
    }
   ],
   "source": [
    "train_score = forest_model.score(x_train, y_train)\n",
    "print(train_score)"
   ]
  },
  {
   "cell_type": "code",
   "execution_count": 62,
   "id": "53bc0b92",
   "metadata": {},
   "outputs": [
    {
     "data": {
      "text/plain": [
       "0.9878393830466817"
      ]
     },
     "execution_count": 62,
     "metadata": {},
     "output_type": "execute_result"
    }
   ],
   "source": [
    "test_score = forest_model.score(x_test, y_test)\n",
    "test_score"
   ]
  },
  {
   "cell_type": "code",
   "execution_count": 63,
   "id": "5013feab",
   "metadata": {},
   "outputs": [],
   "source": [
    "train_accuracy = []\n",
    "test_accuracy = []\n",
    "depth = range(1, 21)\n",
    "for n in depth:\n",
    "  forest = RandomForestRegressor(max_depth=n)\n",
    "  forest.fit(x_train, y_train)\n",
    "  train_accuracy.append(forest.score(x_train, y_train))\n",
    "  test_accuracy.append(forest.score(x_test, y_test))"
   ]
  },
  {
   "cell_type": "code",
   "execution_count": 64,
   "id": "982fe690",
   "metadata": {},
   "outputs": [
    {
     "data": {
      "text/plain": [
       "<matplotlib.legend.Legend at 0x26812eb3c70>"
      ]
     },
     "execution_count": 64,
     "metadata": {},
     "output_type": "execute_result"
    },
    {
     "data": {
      "image/png": "[encoded data removed]",
      "text/plain": [
       "<Figure size 432x288 with 1 Axes>"
      ]
     },
     "metadata": {
      "needs_background": "light"
     },
     "output_type": "display_data"
    }
   ],
   "source": [
    "plt.plot(depth, train_accuracy, label=\"Training Accuracy\")\n",
    "plt.plot(depth, test_accuracy, label=\"Test Accuracy\")\n",
    "plt.ylabel(\"Accuracy\")  \n",
    "plt.xlabel(\"Max_Depth\")\n",
    "plt.legend()"
   ]
  },
  {
   "cell_type": "markdown",
   "id": "06a64c58",
   "metadata": {},
   "source": [
    "<H6>Gradient Boosted Regression<H6>"
   ]
  },
  {
   "cell_type": "code",
   "execution_count": 65,
   "id": "c702085e",
   "metadata": {},
   "outputs": [
    {
     "data": {
      "text/plain": [
       "GradientBoostingRegressor(learning_rate=0.5)"
      ]
     },
     "execution_count": 65,
     "metadata": {},
     "output_type": "execute_result"
    }
   ],
   "source": [
    "GB_model = GradientBoostingRegressor(learning_rate=0.5)\n",
    "GB_model.fit(x_train, y_train)"
   ]
  },
  {
   "cell_type": "code",
   "execution_count": 66,
   "id": "f3281998",
   "metadata": {},
   "outputs": [],
   "source": [
    "ytrain_pred = GB_model.predict(x_train)\n",
    "ytest_pred = GB_model.predict(x_test)"
   ]
  },
  {
   "cell_type": "code",
   "execution_count": 67,
   "id": "9aac256d",
   "metadata": {},
   "outputs": [
    {
     "name": "stdout",
     "output_type": "stream",
     "text": [
      "0.9908466048148356\n"
     ]
    }
   ],
   "source": [
    "train_score = GB_model.score(x_train, y_train)\n",
    "print(train_score)"
   ]
  },
  {
   "cell_type": "code",
   "execution_count": 68,
   "id": "b34aaeae",
   "metadata": {},
   "outputs": [
    {
     "data": {
      "text/plain": [
       "0.9879689601417879"
      ]
     },
     "execution_count": 68,
     "metadata": {},
     "output_type": "execute_result"
    }
   ],
   "source": [
    "test_score = GB_model.score(x_test, y_test)\n",
    "test_score"
   ]
  },
  {
   "cell_type": "code",
   "execution_count": 69,
   "id": "cbc08bf0",
   "metadata": {},
   "outputs": [],
   "source": [
    "train_accuracy = []\n",
    "test_accuracy = []\n",
    "r = []\n",
    "rate = range(1, 10)\n",
    "for n in rate:\n",
    "  gb = GradientBoostingRegressor(learning_rate=n*0.1)\n",
    "  gb.fit(x_train, y_train)\n",
    "  r.append(n*0.1)\n",
    "  train_accuracy.append(gb.score(x_train, y_train))\n",
    "  test_accuracy.append(gb.score(x_test, y_test))"
   ]
  },
  {
   "cell_type": "code",
   "execution_count": 70,
   "id": "7f98db99",
   "metadata": {},
   "outputs": [
    {
     "data": {
      "text/plain": [
       "<matplotlib.legend.Legend at 0x26812a98340>"
      ]
     },
     "execution_count": 70,
     "metadata": {},
     "output_type": "execute_result"
    },
    {
     "data": {
      "image/png": "[encoded data removed]",
      "text/plain": [
       "<Figure size 432x288 with 1 Axes>"
      ]
     },
     "metadata": {
      "needs_background": "light"
     },
     "output_type": "display_data"
    }
   ],
   "source": [
    "plt.plot(r, train_accuracy, label=\"Train Accuracy\")\n",
    "plt.plot(r, test_accuracy, label=\"Test Accuracy\")\n",
    "plt.ylabel(\"Accuracy\")  \n",
    "plt.xlabel(\"Learning_Rate\")\n",
    "plt.legend()"
   ]
  },
  {
   "cell_type": "markdown",
   "id": "826b4e30",
   "metadata": {},
   "source": [
    "<H6>Bagging Regressor<H6>"
   ]
  },
  {
   "cell_type": "code",
   "execution_count": 71,
   "id": "42e900af",
   "metadata": {},
   "outputs": [
    {
     "data": {
      "text/plain": [
       "BaggingRegressor()"
      ]
     },
     "execution_count": 71,
     "metadata": {},
     "output_type": "execute_result"
    }
   ],
   "source": [
    "BR_model = BaggingRegressor(n_estimators=10)\n",
    "BR_model.fit(x_train, y_train)"
   ]
  },
  {
   "cell_type": "code",
   "execution_count": 72,
   "id": "b60dc4c5",
   "metadata": {},
   "outputs": [],
   "source": [
    "ytrain_pred = BR_model.predict(x_train)\n",
    "ytest_pred = BR_model.predict(x_test)"
   ]
  },
  {
   "cell_type": "code",
   "execution_count": 73,
   "id": "dc0c7962",
   "metadata": {},
   "outputs": [
    {
     "name": "stdout",
     "output_type": "stream",
     "text": [
      "0.9993638198450171\n"
     ]
    }
   ],
   "source": [
    "train_score = BR_model.score(x_train, y_train)\n",
    "print(train_score)"
   ]
  },
  {
   "cell_type": "code",
   "execution_count": 74,
   "id": "96f6c617",
   "metadata": {},
   "outputs": [
    {
     "data": {
      "text/plain": [
       "0.9973756795451465"
      ]
     },
     "execution_count": 74,
     "metadata": {},
     "output_type": "execute_result"
    }
   ],
   "source": [
    "test_score = BR_model.score(x_test, y_test)\n",
    "test_score"
   ]
  },
  {
   "cell_type": "code",
   "execution_count": 75,
   "id": "b4582ee0",
   "metadata": {},
   "outputs": [],
   "source": [
    "train_accuracy = []\n",
    "test_accuracy = []\n",
    "est = range(1, 31)\n",
    "for n in est:\n",
    "  BR = BaggingRegressor(n_estimators=n)\n",
    "  BR.fit(x_train, y_train)\n",
    "  train_accuracy.append(BR.score(x_train, y_train))\n",
    "  test_accuracy.append(BR.score(x_test, y_test))"
   ]
  },
  {
   "cell_type": "code",
   "execution_count": 76,
   "id": "64c3d3d0",
   "metadata": {},
   "outputs": [
    {
     "data": {
      "text/plain": [
       "<matplotlib.legend.Legend at 0x26813091520>"
      ]
     },
     "execution_count": 76,
     "metadata": {},
     "output_type": "execute_result"
    },
    {
     "data": {
      "image/png": "[encoded data removed]",
      "text/plain": [
       "<Figure size 432x288 with 1 Axes>"
      ]
     },
     "metadata": {
      "needs_background": "light"
     },
     "output_type": "display_data"
    }
   ],
   "source": [
    "plt.plot(est, train_accuracy, label=\"Training Accuracy\")\n",
    "plt.plot(est, test_accuracy, label=\"Test Accuracy\")\n",
    "plt.ylabel(\"Accuracy\")  \n",
    "plt.xlabel(\"n_estimators\")\n",
    "plt.legend()"
   ]
  },
  {
   "cell_type": "markdown",
   "id": "44c8203b",
   "metadata": {},
   "source": [
    "<H6>Support Vector Machine<H6>"
   ]
  },
  {
   "cell_type": "code",
   "execution_count": 77,
   "id": "a99ab03f",
   "metadata": {},
   "outputs": [
    {
     "data": {
      "text/plain": [
       "SVR()"
      ]
     },
     "execution_count": 77,
     "metadata": {},
     "output_type": "execute_result"
    }
   ],
   "source": [
    "SV_model = SVR(kernel='rbf')\n",
    "SV_model.fit(x_train,y_train)"
   ]
  },
  {
   "cell_type": "code",
   "execution_count": 78,
   "id": "9248a5a1",
   "metadata": {},
   "outputs": [],
   "source": [
    "ytrain_pred = SV_model.predict(x_train)\n",
    "ytest_pred = SV_model.predict(x_test)"
   ]
  },
  {
   "cell_type": "code",
   "execution_count": 79,
   "id": "c7666be5",
   "metadata": {},
   "outputs": [
    {
     "name": "stdout",
     "output_type": "stream",
     "text": [
      "0.39616536562110494\n"
     ]
    }
   ],
   "source": [
    "train_score = SV_model.score(x_train, y_train)\n",
    "print(train_score)"
   ]
  },
  {
   "cell_type": "code",
   "execution_count": 80,
   "id": "6f84d8c4",
   "metadata": {},
   "outputs": [
    {
     "data": {
      "text/plain": [
       "0.39328552916025505"
      ]
     },
     "execution_count": 80,
     "metadata": {},
     "output_type": "execute_result"
    }
   ],
   "source": [
    "test_score = SV_model.score(x_test, y_test)\n",
    "test_score"
   ]
  },
  {
   "cell_type": "code",
   "execution_count": 81,
   "id": "50fc2e49",
   "metadata": {},
   "outputs": [
    {
     "data": {
      "text/plain": [
       "Text(0.5, 1.0, 'Train - Actual vs Predicted')"
      ]
     },
     "execution_count": 81,
     "metadata": {},
     "output_type": "execute_result"
    },
    {
     "data": {
      "image/png": "[encoded data removed]",
      "text/plain": [
       "<Figure size 432x288 with 1 Axes>"
      ]
     },
     "metadata": {
      "needs_background": "light"
     },
     "output_type": "display_data"
    }
   ],
   "source": [
    "plt.scatter(y_train,ytrain_pred)\n",
    "plt.xlabel(\"Actual\")\n",
    "plt.ylabel(\"Predicted\")\n",
    "plt.title(\"Train - Actual vs Predicted\")"
   ]
  },
  {
   "cell_type": "code",
   "execution_count": 82,
   "id": "216ea35a",
   "metadata": {},
   "outputs": [
    {
     "data": {
      "text/plain": [
       "Text(0.5, 1.0, 'Test - Actual vs Predicted')"
      ]
     },
     "execution_count": 82,
     "metadata": {},
     "output_type": "execute_result"
    },
    {
     "data": {
      "image/png": "[encoded data removed]",
      "text/plain": [
       "<Figure size 432x288 with 1 Axes>"
      ]
     },
     "metadata": {
      "needs_background": "light"
     },
     "output_type": "display_data"
    }
   ],
   "source": [
    "plt.scatter(y_test,ytest_pred)\n",
    "plt.xlabel(\"Actual Value\")\n",
    "plt.ylabel(\"Predicted Value\")\n",
    "plt.title(\"Test - Actual vs Predicted\")"
   ]
  }
 ],
 "metadata": {
  "kernelspec": {
   "display_name": "Python 3 (ipykernel)",
   "language": "python",
   "name": "python3"
  },
  "language_info": {
   "codemirror_mode": {
    "name": "ipython",
    "version": 3
   },
   "file_extension": ".py",
   "mimetype": "text/x-python",
   "name": "python",
   "nbconvert_exporter": "python",
   "pygments_lexer": "ipython3",
   "version": "3.9.12"
  }
 },
 "nbformat": 4,
 "nbformat_minor": 5
}
